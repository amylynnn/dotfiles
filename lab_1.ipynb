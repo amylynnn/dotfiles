{
  "nbformat": 4,
  "nbformat_minor": 0,
  "metadata": {
    "colab": {
      "provenance": [],
      "authorship_tag": "ABX9TyNA+5AJyBnG5Sj+lqmaRtGj",
      "include_colab_link": true
    },
    "kernelspec": {
      "name": "python3",
      "display_name": "Python 3"
    },
    "language_info": {
      "name": "python"
    }
  },
  "cells": [
    {
      "cell_type": "markdown",
      "metadata": {
        "id": "view-in-github",
        "colab_type": "text"
      },
      "source": [
        "<a href=\"https://colab.research.google.com/github/amylynnn/dotfiles/blob/master/lab_1.ipynb\" target=\"_parent\"><img src=\"https://colab.research.google.com/assets/colab-badge.svg\" alt=\"Open In Colab\"/></a>"
      ]
    },
    {
      "cell_type": "code",
      "execution_count": 11,
      "metadata": {
        "id": "ssDQRQmDTRcq",
        "colab": {
          "base_uri": "https://localhost:8080/"
        },
        "outputId": "a23de62b-96eb-433c-efc9-5e458fa7d87e"
      },
      "outputs": [
        {
          "output_type": "stream",
          "name": "stdout",
          "text": [
            "\n",
            " --- Conditionals --- \n",
            "warm and Dry\n"
          ]
        }
      ],
      "source": [
        "print('\\n --- Conditionals --- ')\n",
        "temp = 22\n",
        "is_raining = False\n",
        "if temp < 20:\n",
        "  print (\"cold\")\n",
        "elif temp < 30 and not is_raining:\n",
        "  print (\"warm and Dry\")"
      ]
    },
    {
      "cell_type": "code",
      "source": [
        "print('\\n --- List Conprehensions --- ')\n",
        "squares = [x**2 for x in range(5)]\n",
        "print(squares)\n",
        "even_squares = [x**2 for x in range(5) if x % 2 == 0]\n",
        "print(even_squares)"
      ],
      "metadata": {
        "colab": {
          "base_uri": "https://localhost:8080/"
        },
        "id": "WoxXgDCbWL8D",
        "outputId": "715467c9-bbfa-4894-8ceb-290bc6396c4a"
      },
      "execution_count": 14,
      "outputs": [
        {
          "output_type": "stream",
          "name": "stdout",
          "text": [
            "\n",
            " --- List Conprehensions --- \n",
            "[0, 1, 4, 9, 16]\n",
            "[0, 4, 16]\n"
          ]
        }
      ]
    },
    {
      "cell_type": "code",
      "source": [
        "print('\\n --- Functions --- ')\n",
        "def greet(name):\n",
        "  return \"Hello,\" + name\n",
        "  print(greet(\"Alice\"))\n",
        "def add(a, b):\n",
        "  return a + b\n",
        "print('sum:', add(3, 5))"
      ],
      "metadata": {
        "colab": {
          "base_uri": "https://localhost:8080/"
        },
        "id": "ClUTQpa5YOjm",
        "outputId": "bdaa9325-58c0-40ac-a64c-65917383fb86"
      },
      "execution_count": 24,
      "outputs": [
        {
          "output_type": "stream",
          "name": "stdout",
          "text": [
            "\n",
            " --- Functions --- \n",
            "sum: 8\n"
          ]
        }
      ]
    },
    {
      "cell_type": "code",
      "source": [
        "print('\\n --- Modules --- ')\n",
        "from datetime import datetime\n",
        "print(datetime.now())\n",
        "import math\n",
        "result = math.sqrt(16)\n",
        "print(result)"
      ],
      "metadata": {
        "colab": {
          "base_uri": "https://localhost:8080/"
        },
        "id": "oiskxT-FZ3hW",
        "outputId": "60866f07-fdf1-423c-e5ec-496cbe42234c"
      },
      "execution_count": 26,
      "outputs": [
        {
          "output_type": "stream",
          "name": "stdout",
          "text": [
            "\n",
            " --- Modules --- \n",
            "2025-07-22 09:14:11.653223\n",
            "4.0\n"
          ]
        }
      ]
    },
    {
      "cell_type": "code",
      "source": [
        "print('\\n --- Files --- ')\n",
        "with open(\"test.txt\", \"w\") as f:\n",
        "  f.write(\"Hello File!\")\n",
        "with open(\"test.txt\", \"r\") as f:\n",
        "  content = f.read()\n",
        "print(content)"
      ],
      "metadata": {
        "colab": {
          "base_uri": "https://localhost:8080/"
        },
        "id": "xYNiaBPnbL-h",
        "outputId": "fd877aff-d8ba-418b-d258-4639b6bed241"
      },
      "execution_count": 27,
      "outputs": [
        {
          "output_type": "stream",
          "name": "stdout",
          "text": [
            "\n",
            " --- Files --- \n",
            "Hello File!\n"
          ]
        }
      ]
    },
    {
      "cell_type": "code",
      "source": [
        "print('\\n --- Matplotlib --- ')\n",
        "import matplotlib.pyplot as plt\n",
        "temps =[22,24,26,23]\n",
        "plt.plot(temps)\n",
        "plt.title(\"Temps\")\n",
        "plt.show()"
      ],
      "metadata": {
        "colab": {
          "base_uri": "https://localhost:8080/",
          "height": 488
        },
        "id": "LU3qTTeoc1J1",
        "outputId": "372b5cf6-33a5-417c-b8dd-814f49eb9293"
      },
      "execution_count": 30,
      "outputs": [
        {
          "output_type": "stream",
          "name": "stdout",
          "text": [
            "\n",
            " --- Matplotlib --- \n"
          ]
        },
        {
          "output_type": "display_data",
          "data": {
            "text/plain": [
              "<Figure size 640x480 with 1 Axes>"
            ],
            "image/png": "[encoded data removed]"
          },
          "metadata": {}
        }
      ]
    }
  ]
}